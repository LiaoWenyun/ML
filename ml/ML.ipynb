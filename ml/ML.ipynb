{
 "cells": [
  {
   "cell_type": "code",
   "execution_count": 12,
   "metadata": {},
   "outputs": [],
   "source": [
    "import os\n",
    "from astroquery.cadc import Cadc\n",
    "import pandas as pd\n",
    "import glue_jupyter as gj\n",
    "import ipywidgets as widgets\n",
    "from ipywidgets import interact\n",
    "from cadcutils import net\n",
    "from cadctap import CadcTapClient\n",
    "\n",
    "query = \"\"\"SELECT TOP 1000 * FROM ml.Image_Quality_Table\n",
    "        WHERE Good_Probability >= {good_probability}\n",
    "        AND Number_of_Dead_CCDs != {number_of_dead_ccds}\n",
    "        \"\"\"\n",
    "query_param = {\n",
    "    'good_probability': 0.2,\n",
    "    'number_of_dead_ccds': -99\n",
    "}\n",
    "\n",
    "certSubject = net.Subject(\n",
    "    certificate=os.path.join(os.environ['HOME'], \".ssl/cadcproxy.pem\"))\n",
    "\n",
    "client = CadcTapClient(certSubject)\n",
    "client.query(query.format(**query_param), output_file='tmp/result.xml', timeout=10)\n",
    "\n"
   ]
  },
  {
   "cell_type": "code",
   "execution_count": null,
   "metadata": {},
   "outputs": [],
   "source": []
  },
  {
   "cell_type": "code",
   "execution_count": null,
   "metadata": {},
   "outputs": [],
   "source": []
  }
 ],
 "metadata": {
  "kernelspec": {
   "display_name": "Python 3",
   "language": "python",
   "name": "python3"
  },
  "language_info": {
   "codemirror_mode": {
    "name": "ipython",
    "version": 3
   },
   "file_extension": ".py",
   "mimetype": "text/x-python",
   "name": "python",
   "nbconvert_exporter": "python",
   "pygments_lexer": "ipython3",
   "version": "3.6.8"
  }
 },
 "nbformat": 4,
 "nbformat_minor": 2
}
