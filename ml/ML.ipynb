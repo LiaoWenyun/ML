{
 "cells": [
  {
   "cell_type": "code",
   "execution_count": 30,
   "metadata": {},
   "outputs": [
    {
     "data": {
      "application/vnd.jupyter.widget-view+json": {
       "model_id": "999dcb3c9da04355953a22edc6f06739",
       "version_major": 2,
       "version_minor": 0
      },
      "text/plain": [
       "HBox(children=(IntText(value=1013372, description='Observation ID', style=DescriptionStyle(description_width='…"
      ]
     },
     "metadata": {},
     "output_type": "display_data"
    },
    {
     "data": {
      "application/vnd.jupyter.widget-view+json": {
       "model_id": "736d358b032e4424b33a7495b9a569bd",
       "version_major": 2,
       "version_minor": 0
      },
      "text/plain": [
       "Output()"
      ]
     },
     "metadata": {},
     "output_type": "display_data"
    }
   ],
   "source": [
    "import os\n",
    "from IPython.display import Image, display, clear_output\n",
    "from astroquery.cadc import Cadc\n",
    "import pandas as pd\n",
    "import glue_jupyter as gj\n",
    "import ipywidgets as widgets\n",
    "from ipywidgets import interact\n",
    "from cadcutils import net\n",
    "from cadctap import CadcTapClient\n",
    "\n",
    "\n",
    "observation_id = widgets.IntText(value=1013372,\n",
    "                                 description='Observation ID',\n",
    "                                 continuous_update=False,\n",
    "                                 style={'description_width': 'initial'})\n",
    "ui_database = widgets.HBox([observation_id])\n",
    "\n",
    "\n",
    "def retrieve_data(observation_id):\n",
    "\n",
    "    obs_query = \"\"\"SELECT observationID FROM caom2.Plane AS Plane \n",
    "    JOIN caom2.Observation AS Observation \n",
    "    ON Plane.obsID = Observation.obsID\n",
    "    WHERE (Observation.observationID = '{obs_id}'\n",
    "    AND collection = '{collection}'\n",
    "    AND instrument_name = '{instrument}')\"\"\"\n",
    "    \n",
    "    obs_query_param = {'obs_id': observation_id,\n",
    "                       'collection': 'CFHT',\n",
    "                       'instrument': 'MegaPrime'}\n",
    "    \n",
    "    cadc = Cadc()\n",
    "    output = cadc.exec_sync(obs_query.format(**obs_query_param), output_file = None) #need a byte like object file \n",
    "    print(output)\n",
    "    \n",
    "    \n",
    "    quality_query = \"\"\"SELECT * FROM ml\"\"\"\n",
    "    \n",
    "    \n",
    "    \n",
    "    \n",
    "database_output = widgets.interactive_output(retrieve_data,\n",
    "                                             {\"observation_id\": observation_id})\n",
    "display(ui_database , database_output)\n",
    "    \n",
    " #   query = \"\"\"SELECT TOP 1000 * FROM ml.Image_Quality_Table\n",
    " #   WHERE Good_Probability >= {good_probability}\n",
    " #   AND Number_of_Dead_CCDs != {invalid_number_of_dead_ccds}\n",
    " #   \"\"\"\n",
    " #   query_param = {'good_probability': 0.2,\n",
    " #                  'invalid_number_of_dead_ccds': -99}\n",
    " #   \n",
    " #   certSubject = net.Subject(\n",
    " #       certificate=os.path.join(os.environ['HOME'], \".ssl/cadcproxy.pem\"))\n",
    " #   \n",
    " #   client = CadcTapClient(certSubject)\n",
    " #   client.query(query.format(**query_param), output_file='tmp/result.xml', timeout=10)\n",
    " #   cadc = Cadc()\n",
    " #   cadc_query = \"\"\"\"\"\"\n",
    " #   output = cadc.exec_sync(cadc_query, uploads = None, output_file = None)\n",
    "\n",
    "\n",
    "\n",
    "\n",
    "\n"
   ]
  },
  {
   "cell_type": "code",
   "execution_count": null,
   "metadata": {},
   "outputs": [],
   "source": []
  }
 ],
 "metadata": {
  "kernelspec": {
   "display_name": "Python 3",
   "language": "python",
   "name": "python3"
  },
  "language_info": {
   "codemirror_mode": {
    "name": "ipython",
    "version": 3
   },
   "file_extension": ".py",
   "mimetype": "text/x-python",
   "name": "python",
   "nbconvert_exporter": "python",
   "pygments_lexer": "ipython3",
   "version": "3.6.8"
  }
 },
 "nbformat": 4,
 "nbformat_minor": 2
}
