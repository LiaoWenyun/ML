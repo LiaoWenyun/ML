{
 "cells": [
  {
   "cell_type": "code",
   "execution_count": 21,
   "metadata": {},
   "outputs": [
    {
     "data": {
      "application/vnd.jupyter.widget-view+json": {
       "model_id": "74a6e0b5cf954a5095ffade444484ed9",
       "version_major": 2,
       "version_minor": 0
      },
      "text/plain": [
       "HBox(children=(Button(description='First Page', layout=Layout(flex='1 1 auto', width='auto'), style=ButtonStyl…"
      ]
     },
     "metadata": {},
     "output_type": "display_data"
    },
    {
     "data": {
      "application/vnd.jupyter.widget-view+json": {
       "model_id": "3d022e2972614ad891f1081dbb3aa614",
       "version_major": 2,
       "version_minor": 0
      },
      "text/plain": [
       "Output()"
      ]
     },
     "metadata": {},
     "output_type": "display_data"
    }
   ],
   "source": [
    "import os\n",
    "from IPython.display import Image, display, clear_output\n",
    "from IPython.core.display import HTML\n",
    "from astroquery.cadc import Cadc\n",
    "from astropy.table import Table as ATable\n",
    "from astropy.io.votable.tree import VOTableFile, Resource, Table, Field\n",
    "from astropy.io.votable import from_table, writeto\n",
    "import pandas as pd\n",
    "import glue_jupyter as gj\n",
    "import ipywidgets as widgets\n",
    "from ipywidgets import interact\n",
    "from cadcutils import net\n",
    "from cadctap import CadcTapClient\n",
    "from six import BytesIO\n",
    "import base64\n",
    "\n",
    "out = widgets.Output()\n",
    "current_page = 0\n",
    "\n",
    "def clicked(b):\n",
    "    global current_page\n",
    "    with out:\n",
    "        clear_output() \n",
    "        num_pages = int(len(df.index)/10)\n",
    "        if b.description == 'First Page':\n",
    "            current_page = 0 \n",
    "        elif b.description =='Previous Page':\n",
    "            if current_page != 0:\n",
    "                current_page -=1\n",
    "        elif b.description =='Next Page':\n",
    "            if current_page != num_pages:\n",
    "                current_page +=1\n",
    "        elif b.description == 'Last Page':\n",
    "            current_page = num_pages\n",
    "            \n",
    "        sub_df = df[current_page*10: current_page*10+10]\n",
    "        display(sub_df)\n",
    "        \n",
    "\n",
    "df = pd.read_csv('tmp/output_file.csv')\n",
    "\n",
    "\n",
    "previous_button = widgets.Button(description=\"Previous Page\",\n",
    "               layout=widgets.Layout(flex='1 1 auto',\n",
    "                                     width='auto'))\n",
    "next_button = widgets.Button(description=\"Next Page\",\n",
    "               layout=widgets.Layout(flex='1 1 auto',\n",
    "                                     width='auto'))\n",
    "first_button = widgets.Button(description=\"First Page\",\n",
    "               layout=widgets.Layout(flex='1 1 auto',\n",
    "                                     width='auto'))\n",
    "last_button = widgets.Button(description=\"Last Page\",\n",
    "               layout=widgets.Layout(flex='1 1 auto',\n",
    "                                     width='auto'))\n",
    "previous_button.on_click(clicked)\n",
    "next_button.on_click(clicked)\n",
    "first_button.on_click(clicked)\n",
    "last_button.on_click(clicked)\n",
    "\n",
    "ui = widgets.HBox([first_button, previous_button, next_button, last_button])\n",
    "\n",
    "\n",
    "display(ui,out)\n",
    "\n",
    "\n",
    "\n"
   ]
  },
  {
   "cell_type": "code",
   "execution_count": null,
   "metadata": {},
   "outputs": [],
   "source": []
  }
 ],
 "metadata": {
  "kernelspec": {
   "display_name": "Python 3",
   "language": "python",
   "name": "python3"
  },
  "language_info": {
   "codemirror_mode": {
    "name": "ipython",
    "version": 3
   },
   "file_extension": ".py",
   "mimetype": "text/x-python",
   "name": "python",
   "nbconvert_exporter": "python",
   "pygments_lexer": "ipython3",
   "version": "3.7.4"
  }
 },
 "nbformat": 4,
 "nbformat_minor": 2
}
