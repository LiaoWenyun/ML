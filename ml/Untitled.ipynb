{
 "cells": [
  {
   "cell_type": "code",
   "execution_count": 48,
   "metadata": {},
   "outputs": [
    {
     "data": {
      "application/vnd.jupyter.widget-view+json": {
       "model_id": "523713bd1e3b4ee49bbd418819e0be1a",
       "version_major": 2,
       "version_minor": 0
      },
      "text/plain": [
       "Text(value='hello', continuous_update=False, description='field')"
      ]
     },
     "metadata": {},
     "output_type": "display_data"
    },
    {
     "data": {
      "application/vnd.jupyter.widget-view+json": {
       "model_id": "702cb4c2a6e840f3b00dd2f1d85ab614",
       "version_major": 2,
       "version_minor": 0
      },
      "text/plain": [
       "Output()"
      ]
     },
     "metadata": {},
     "output_type": "display_data"
    }
   ],
   "source": [
    "import os\n",
    "import io\n",
    "from astropy import units as u \n",
    "from astropy.coordinates import SkyCoord\n",
    "from IPython.display import Image, display, clear_output\n",
    "from IPython.core.display import HTML\n",
    "from astroquery.cadc import Cadc\n",
    "from astropy.table import Table as ATable\n",
    "from astropy.io.votable.tree import VOTableFile, Resource, Table, Field\n",
    "from astropy.io.votable import from_table, writeto\n",
    "import pandas as pd\n",
    "import glue_jupyter as gj\n",
    "import ipywidgets as widgets\n",
    "from ipywidgets import interact\n",
    "from cadcutils import net\n",
    "from cadctap import CadcTapClient\n",
    "from six import BytesIO\n",
    "import base64\n",
    "import re\n",
    "\n",
    "\n",
    "def output_function(field_value):\n",
    "    print(field_value)\n",
    "    \n",
    "field_value = widgets.Text(value=\"hello\", description= \"field\", continuous_update=False)\n",
    "out = widgets.interactive_output(output_function, {\"field_value\": field_value})\n",
    "display(field_value, out)\n",
    "    \n",
    "\n"
   ]
  },
  {
   "cell_type": "code",
   "execution_count": null,
   "metadata": {},
   "outputs": [],
   "source": []
  },
  {
   "cell_type": "code",
   "execution_count": null,
   "metadata": {},
   "outputs": [],
   "source": []
  }
 ],
 "metadata": {
  "kernelspec": {
   "display_name": "Python 3",
   "language": "python",
   "name": "python3"
  },
  "language_info": {
   "codemirror_mode": {
    "name": "ipython",
    "version": 3
   },
   "file_extension": ".py",
   "mimetype": "text/x-python",
   "name": "python",
   "nbconvert_exporter": "python",
   "pygments_lexer": "ipython3",
   "version": "3.7.4"
  }
 },
 "nbformat": 4,
 "nbformat_minor": 2
}
