{
 "cells": [
  {
   "cell_type": "code",
   "execution_count": 8,
   "metadata": {
    "scrolled": false
   },
   "outputs": [
    {
     "data": {
      "application/vnd.jupyter.widget-view+json": {
       "model_id": "76edee5e1cea4348935ddf49a93a943e",
       "version_major": 2,
       "version_minor": 0
      },
      "text/plain": [
       "VBox(children=(Text(value='M101 0.6', continuous_update=False, description='Target Object/Target Coordinates',…"
      ]
     },
     "metadata": {},
     "output_type": "display_data"
    },
    {
     "data": {
      "text/html": [
       "\n",
       "<head>\n",
       "  <meta charset=\"utf-8\">\n",
       "  <meta name=\"viewport\" content=\"width=device-width, initial-scale=1\">\n",
       "  <link rel=\"stylesheet\" href=\"https://maxcdn.bootstrapcdn.com/bootstrap/3.4.0/css/bootstrap.min.css\">\n",
       "  <script src=\"https://ajax.googleapis.com/ajax/libs/jquery/3.4.1/jquery.min.js\"></script>\n",
       "  <script src=\"https://maxcdn.bootstrapcdn.com/bootstrap/3.4.0/js/bootstrap.min.js\"></script>\n",
       "  <script src=\"https://kit.fontawesome.com/a076d05399.js\"></script>\n",
       "</head>\n",
       "<body>\n",
       "\n",
       "  <a href=\"#\" data-toggle=\"popover\" title=\"Target\" data-content=\"\n",
       "    <p>hello world</p>\n",
       "    <p>hello world</p>\n",
       "    <div class='link-clicked'>\n",
       "    <ul>\n",
       "    <li><a href='#' id= 'Aaaaaaa'>Upload</a></li>\n",
       "    <li><a href='#' id='Bbbbbbbbb'>Download</a></li>\n",
       "    </ul>\n",
       "    </div>\n",
       "    \n",
       "    \"><i class=\"fas fa-info-circle\"></i></a>\n",
       "\n",
       "<script>\n",
       "$(document).ready(function(){\n",
       "    $('[data-toggle=\"popover\"]').popover({ html: true });\n",
       "    \n",
       "    $(document).on(\"click\", \".link-clicked a\", function(event) {\n",
       "        console.log(event.target.id)\n",
       "        var command = \"space_object.value = '\"+ event.target.id +\"'\"\n",
       "        var kernel = IPython.notebook.kernel\n",
       "        kernel.execute(command)\n",
       "        console.log(\"Doownload data\")\n",
       "    })\n",
       "});\n",
       "</script>\n",
       "\n",
       "</body>\n"
      ],
      "text/plain": [
       "<IPython.core.display.HTML object>"
      ]
     },
     "metadata": {},
     "output_type": "display_data"
    },
    {
     "data": {
      "application/vnd.jupyter.widget-view+json": {
       "model_id": "9a59fa40773240c1987e2de2c4c14881",
       "version_major": 2,
       "version_minor": 0
      },
      "text/plain": [
       "Output()"
      ]
     },
     "metadata": {},
     "output_type": "display_data"
    }
   ],
   "source": [
    "from IPython.display import Image, display, clear_output\n",
    "from IPython.core.display import HTML\n",
    "import ipywidgets as widgets\n",
    "from ipywidgets import interact\n",
    "\n",
    "hello = \"\"\n",
    "space_object = widgets.Text(value=\"M101 0.6\",\n",
    "                            description=\"Target Object/Target Coordinates\",\n",
    "                            continuous_update= False,\n",
    "                            style={'description_width': 'initial'})\n",
    "\n",
    "\n",
    "def retrieve_data(space_object):\n",
    "    print(space_object)\n",
    "\n",
    "def on_click():\n",
    "    print(\"hello world\")\n",
    "    return \n",
    "\n",
    "html = HTML(\"\"\"\n",
    "<head>\n",
    "  <meta charset=\"utf-8\">\n",
    "  <meta name=\"viewport\" content=\"width=device-width, initial-scale=1\">\n",
    "  <link rel=\"stylesheet\" href=\"https://maxcdn.bootstrapcdn.com/bootstrap/3.4.0/css/bootstrap.min.css\">\n",
    "  <script src=\"https://ajax.googleapis.com/ajax/libs/jquery/3.4.1/jquery.min.js\"></script>\n",
    "  <script src=\"https://maxcdn.bootstrapcdn.com/bootstrap/3.4.0/js/bootstrap.min.js\"></script>\n",
    "  <script src=\"https://kit.fontawesome.com/a076d05399.js\"></script>\n",
    "</head>\n",
    "<body>\n",
    "\n",
    "  <a href=\"#\" data-toggle=\"popover\" title=\"Target\" data-content=\"\n",
    "    <p>hello world</p>\n",
    "    <p>hello world</p>\n",
    "    <div class='link-clicked'>\n",
    "    <ul>\n",
    "    <li><a href='#' id= 'Aaaaaaa'>Upload</a></li>\n",
    "    <li><a href='#' id='Bbbbbbbbb'>Download</a></li>\n",
    "    </ul>\n",
    "    </div>\n",
    "    \n",
    "    \"><i class=\"fas fa-info-circle\"></i></a>\n",
    "\n",
    "<script>\n",
    "$(document).ready(function(){\n",
    "    $('[data-toggle=\"popover\"]').popover({ html: true });\n",
    "    \n",
    "    $(document).on(\"click\", \".link-clicked a\", function(event) {\n",
    "        console.log(event.target.id)\n",
    "        var command = \"space_object.value = '\"+ event.target.id +\"'\"\n",
    "        var kernel = IPython.notebook.kernel\n",
    "        kernel.execute(command)\n",
    "        console.log(\"Doownload data\")\n",
    "    })\n",
    "});\n",
    "</script>\n",
    "\n",
    "</body>\n",
    "\"\"\")\n",
    "ui_object = widgets.VBox(children=[space_object], layout= widgets.Layout(width='100%'))\n",
    "\n",
    "database_output = widgets.interactive_output(retrieve_data, {\"space_object\": space_object})\n",
    "display(ui_object, html, database_output)\n"
   ]
  },
  {
   "cell_type": "code",
   "execution_count": 5,
   "metadata": {},
   "outputs": [
    {
     "name": "stdout",
     "output_type": "stream",
     "text": [
      "HEllo1\n"
     ]
    }
   ],
   "source": [
    "print(hello)"
   ]
  },
  {
   "cell_type": "code",
   "execution_count": null,
   "metadata": {},
   "outputs": [],
   "source": []
  },
  {
   "cell_type": "code",
   "execution_count": null,
   "metadata": {},
   "outputs": [],
   "source": []
  }
 ],
 "metadata": {
  "kernelspec": {
   "display_name": "Python 3",
   "language": "python",
   "name": "python3"
  },
  "language_info": {
   "codemirror_mode": {
    "name": "ipython",
    "version": 3
   },
   "file_extension": ".py",
   "mimetype": "text/x-python",
   "name": "python",
   "nbconvert_exporter": "python",
   "pygments_lexer": "ipython3",
   "version": "3.6.8"
  }
 },
 "nbformat": 4,
 "nbformat_minor": 2
}
