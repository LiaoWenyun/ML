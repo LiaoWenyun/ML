{
 "cells": [
  {
   "cell_type": "code",
   "execution_count": 26,
   "metadata": {},
   "outputs": [
    {
     "data": {
      "application/vnd.jupyter.widget-view+json": {
       "model_id": "7d9242b326c2416aa54fe1249c1127fc",
       "version_major": 2,
       "version_minor": 0
      },
      "text/plain": [
       "HBox(children=(IntText(value=1013372, description='Observation ID', style=DescriptionStyle(description_width='…"
      ]
     },
     "metadata": {},
     "output_type": "display_data"
    },
    {
     "data": {
      "application/vnd.jupyter.widget-view+json": {
       "model_id": "a1fa3b3c379c4ee78345e356b5cd2ba6",
       "version_major": 2,
       "version_minor": 0
      },
      "text/plain": [
       "Output()"
      ]
     },
     "metadata": {},
     "output_type": "display_data"
    }
   ],
   "source": [
    "import os\n",
    "from IPython.display import Image, display, clear_output\n",
    "from astroquery.cadc import Cadc\n",
    "from astropy.io.votable.tree import VOTableFile, Resource, Table, Field\n",
    "from astropy.io.votable import from_table, writeto\n",
    "import pandas as pd\n",
    "import glue_jupyter as gj\n",
    "import ipywidgets as widgets\n",
    "from ipywidgets import interact\n",
    "from cadcutils import net\n",
    "from cadctap import CadcTapClient\n",
    "from six import BytesIO\n",
    "import sh\n",
    "\n",
    "\n",
    "class Application:\n",
    "    def __init__(self):\n",
    "        self.data = 0\n",
    "        \n",
    "    #this function takes a query and parameters, if a output file is provided, then it will output the \n",
    "    # query result to the output_file, else return a astropy table object\n",
    "    def get_cadc_data(self,query, param, output_file=None):\n",
    "        cadc = Cadc()\n",
    "        output = cadc.exec_sync(query.format(**param))\n",
    "        if (output_file != None):\n",
    "            self.__output_votable_file(output, output_file)\n",
    "        else:\n",
    "            return output\n",
    "    #this function takes a astropy table and a .xml file as input,\n",
    "    #returns a votable format and write\n",
    "    def __output_votable_file(self, output, output_file):\n",
    "        votable = from_table(output)\n",
    "        writeto(votable, output_file)\n",
    "        \n",
    "    def get_cadcTap_data(self, query, fmt, out_file, tmp_table):\n",
    "        anonSubject = net.Subject()\n",
    "        #client = CadcTapClient(anonSubject, resource_id='ivo://cadc.nrc.ca/youcat')\n",
    "        certSubject = net.Subject(certificate=os.path.join(os.environ['HOME'], \".ssl/cadcproxy.pem\"))\n",
    "        client = CadcTapClient(certSubject)\n",
    "        client.query(query,\n",
    "                     response_format=fmt,\n",
    "                     output_file=out_file,\n",
    "                     tmptable='tmptable:' + tmp_table,\n",
    "                     timeout=30)\n",
    "        self._process_out_data(out_file)\n",
    "        \n",
    "    def _process_out_data(self, file_name):\n",
    "        data = pd.read_csv(file_name)\n",
    "        cols = data.columns\n",
    "        data.columns = [col.replace('\"', '') for col in cols]\n",
    "        data.dropna(subset=['Obs. ID'], inplace=True)\n",
    "        data.to_csv(file_name, index=False)\n",
    "\n",
    "    #def get_data(observation_id):\n",
    "\n",
    "    #def get_subsets():\n",
    "    \n",
    "    \n",
    "        \n",
    "\n",
    "\n",
    "####test class###\n",
    "\n",
    "observation_id = widgets.IntText(value=1013372,\n",
    "                                 description='Observation ID',\n",
    "                                 continuous_update=False,\n",
    "                                 style={'description_width': 'initial'})\n",
    "ui_database = widgets.HBox([observation_id])\n",
    "\n",
    "def retrieve_data(observation_id):\n",
    "    application = Application()\n",
    "    obs_query = \"\"\"SELECT Observation.observationURI,\n",
    "    Plane.publisherID,\n",
    "    Observation.collection,\n",
    "    Observation.observationID,\n",
    "    Plane.productID,\n",
    "    Observation.instrument_name,\n",
    "    Plane.time_exposure\n",
    "    FROM caom2.Plane AS Plane\n",
    "    JOIN caom2.Observation AS Observation\n",
    "    ON Plane.obsID = Observation.obsID\n",
    "    WHERE (Observation.observationID = '{obs_id}'\n",
    "    AND collection = '{collection}'\n",
    "    AND instrument_name = '{instrument}')\"\"\"\n",
    "    obs_query_param = {'obs_id': observation_id,\n",
    "                       'collection': 'CFHT',\n",
    "                       'instrument': 'MegaPrime'}\n",
    "    outfile = 'tmp/output.xml'\n",
    "    application.get_cadc_data(obs_query,obs_query_param,output_file=outfile)\n",
    "    \n",
    "    quality_query = \"\"\"SELECT Tmp.observationURI AS Preview,\n",
    "        Tmp.publisherID AS \"Publisher ID\",\n",
    "        Tmp.collection AS Collection,\n",
    "        Tmp.observationID AS \"Obs. ID\",\n",
    "        Tmp.productID AS \"Product ID\",\n",
    "        Tmp.instrument_name AS Instrument,\n",
    "        Tmp.time_exposure AS \"Int. Time\",\n",
    "        Quality.overallQuality AS \"Overall Quality\",\n",
    "        Quality.reallyBadTracking AS \"Really Bad Tracking\",\n",
    "        Quality.badTracking AS \"Bad Tracking\",\n",
    "        Quality.badWeather AS \"Bad Weather\",\n",
    "        Quality.backgroundProblem AS \"Background Problem\",\n",
    "        Quality.deadCCDs AS \"Dead CCDs\"\n",
    "        FROM ml.MegaprimeQuality AS Quality\n",
    "        JOIN tap_upload.tmptable AS Tmp\n",
    "        ON Quality.observationID=Tmp.observationID\n",
    "        WHERE publisherID LIKE '%p'\"\"\" \n",
    "    tmp_table = os.path.join('tmp', 'output.xml')\n",
    "    application.get_cadcTap_data(quality_query, 'csv', 'tmp/output_file.csv', tmp_table)\n",
    "\n",
    "        \n",
    "database_output = widgets.interactive_output(retrieve_data, {\"observation_id\": observation_id})\n",
    "display(ui_database , database_output)        "
   ]
  },
  {
   "cell_type": "code",
   "execution_count": null,
   "metadata": {},
   "outputs": [],
   "source": []
  },
  {
   "cell_type": "code",
   "execution_count": null,
   "metadata": {},
   "outputs": [],
   "source": []
  }
 ],
 "metadata": {
  "kernelspec": {
   "display_name": "Python 3",
   "language": "python",
   "name": "python3"
  },
  "language_info": {
   "codemirror_mode": {
    "name": "ipython",
    "version": 3
   },
   "file_extension": ".py",
   "mimetype": "text/x-python",
   "name": "python",
   "nbconvert_exporter": "python",
   "pygments_lexer": "ipython3",
   "version": "3.6.8"
  }
 },
 "nbformat": 4,
 "nbformat_minor": 2
}
