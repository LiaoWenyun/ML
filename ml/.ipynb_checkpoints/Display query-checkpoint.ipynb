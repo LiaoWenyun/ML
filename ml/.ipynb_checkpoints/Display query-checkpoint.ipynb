{
 "cells": [
  {
   "cell_type": "code",
   "execution_count": 18,
   "metadata": {},
   "outputs": [
    {
     "data": {
      "application/vnd.jupyter.widget-view+json": {
       "model_id": "73c9f8ffc435473bbce0d1bf2631ebf1",
       "version_major": 2,
       "version_minor": 0
      },
      "text/plain": [
       "Tab(children=(HBox(children=(Text(value='M101 0.6', continuous_update=False, description='Target Object/Target…"
      ]
     },
     "metadata": {},
     "output_type": "display_data"
    },
    {
     "data": {
      "application/vnd.jupyter.widget-view+json": {
       "model_id": "2e8636c73ccf4f4fbe53ab4e88b79723",
       "version_major": 2,
       "version_minor": 0
      },
      "text/plain": [
       "Output()"
      ]
     },
     "metadata": {},
     "output_type": "display_data"
    }
   ],
   "source": [
    "import os\n",
    "import io\n",
    "from astropy import units as u \n",
    "from astropy.coordinates import SkyCoord\n",
    "from IPython.display import Image, display, clear_output\n",
    "from IPython.core.display import HTML\n",
    "from astroquery.cadc import Cadc\n",
    "from astropy.table import Table as ATable\n",
    "from astropy.io.votable.tree import VOTableFile, Resource, Table, Field\n",
    "from astropy.io.votable import from_table, writeto\n",
    "import pandas as pd\n",
    "import glue_jupyter as gj\n",
    "import ipywidgets as widgets\n",
    "from ipywidgets import interact\n",
    "from cadcutils import net\n",
    "from cadctap import CadcTapClient\n",
    "from six import BytesIO\n",
    "import base64\n",
    "import re\n",
    "\n",
    "# first tab content\n",
    "space_object = widgets.Text(value=\"M101 0.6\",\n",
    "                            description=\"Target Object/Target Coordinates\",\n",
    "                            continuous_update= False,\n",
    "                            style={'description_width': 'initial'})\n",
    "ui_object = widgets.HBox([space_object])\n",
    "# second tab content \n",
    "\n",
    "query_widget = widgets.Label(value=\"\")\n",
    "# building the tabs\n",
    "tab = widgets.Tab(children = [ui_object, query_widget])\n",
    "tab.set_title(0,'Space Object')\n",
    "tab.set_title(1,'Check Query')\n",
    "\n",
    "def retrieve_data(space_object):\n",
    "    global app, out_data, results_df, spinner_status\n",
    "    radius = 0.01666666666666\n",
    "    object_name = \"M101\"\n",
    "    splited = space_object.split(' ')\n",
    "    if(re.search(\"^[a-zA-Z0-9_]+$\", splited[0])):\n",
    "        if len(splited) >= 1:\n",
    "            object_name = splited[0]\n",
    "            try:\n",
    "                coords = SkyCoord.from_name(object_name)\n",
    "                ra_degree = coords.ra.degree\n",
    "                dec_degree = coords.dec.degree\n",
    "            except:\n",
    "                print(\"\\x1b[31m Invalid target object \\x1b[0m\")\n",
    "                return 0\n",
    "            if(len(splited)>1 and re.search(\"^\\d+\\.?\\d*$\", splited[1])):\n",
    "                radius = float(splited[1])\n",
    "            elif(len(splited)>1 and re.search(\"arcmin\", splited[1])):\n",
    "                radius = float(float(splited[1][:-6])/60)\n",
    "   \n",
    "    elif(re.search(\"^-?\\d+\\.?\\d*$\",splited[0])):\n",
    "        if len(splited) >= 2:\n",
    "            if(re.search(\"^-?\\d+\\.?\\d*$\",splited[1])):\n",
    "                ra_degree = float(splited[0])\n",
    "                dec_degree = float(splited[1])\n",
    "            else: \n",
    "                print(\"\\x1b[31m Invalid target object \\x1b[0m\")\n",
    "                return 0\n",
    "            if(len(splited)>2 and re.search(\"^\\d+\\.?\\d*$\", splited[2])):\n",
    "                radius = float(splited[2])\n",
    "        else:\n",
    "            return 0\n",
    "    elif(re.search(\"^\\+?-?\\d+\\:\\d+\\:\\d+\\.?\\d*$\", splited[0])):\n",
    "        if len(splited) >= 2:\n",
    "            if(re.search(\"^\\+?-?\\d+\\:\\d+\\:\\d+\\.?\\d*$\", splited[1])):\n",
    "                coords = SkyCoord(splited[0], splited[1], unit=(u.hourangle, u.deg))\n",
    "                ra_degree = coords.ra.degree\n",
    "                dec_degree = coords.dec.degree\n",
    "            else: \n",
    "                print(\"\\x1b[31m Invalid target object \\x1b[0m\")\n",
    "                return 0            \n",
    "            if(len(splited)>2 and re.search(\"^\\d+\\.?\\d*$\", splited[2])):\n",
    "                radius = float(splited[2])\n",
    "        else:\n",
    "            return 0\n",
    "    else:\n",
    "        return 0\n",
    "\n",
    "    obs_query = \"\"\"SELECT Observation.observationURI,\n",
    "    Plane.publisherID,\n",
    "    Observation.collection,\n",
    "    Observation.observationID,\n",
    "    Plane.productID,\n",
    "    Observation.instrument_name,\n",
    "    Plane.time_exposure\n",
    "    FROM caom2.Plane AS Plane\n",
    "    JOIN caom2.Observation AS Observation\n",
    "    ON Plane.obsID = Observation.obsID\n",
    "    WHERE (INTERSECTS(CIRCLE('{epoch}', {ra}, {dec}, {radius}), Plane.position_bounds ) = 1\n",
    "    AND collection = '{collection}'\n",
    "    AND instrument_name = '{instrument}')\"\"\"\n",
    "    obs_query_param = {'epoch':'ICRS',\n",
    "                       'ra': ra_degree,\n",
    "                       'dec': dec_degree,\n",
    "                       'radius': radius,\n",
    "                       'collection': 'CFHT',\n",
    "                       'instrument': 'MegaPrime'}\n",
    "\n",
    "\n",
    "database_output = widgets.interactive_output(retrieve_data, {\"space_object\": space_object})\n",
    "display(tab, database_output)"
   ]
  },
  {
   "cell_type": "code",
   "execution_count": null,
   "metadata": {},
   "outputs": [],
   "source": []
  },
  {
   "cell_type": "code",
   "execution_count": null,
   "metadata": {},
   "outputs": [],
   "source": []
  }
 ],
 "metadata": {
  "kernelspec": {
   "display_name": "Python 3",
   "language": "python",
   "name": "python3"
  },
  "language_info": {
   "codemirror_mode": {
    "name": "ipython",
    "version": 3
   },
   "file_extension": ".py",
   "mimetype": "text/x-python",
   "name": "python",
   "nbconvert_exporter": "python",
   "pygments_lexer": "ipython3",
   "version": "3.7.4"
  }
 },
 "nbformat": 4,
 "nbformat_minor": 2
}
