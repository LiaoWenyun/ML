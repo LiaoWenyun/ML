{
 "cells": [
  {
   "cell_type": "code",
   "execution_count": 4,
   "metadata": {},
   "outputs": [
    {
     "data": {
      "application/vnd.jupyter.widget-view+json": {
       "model_id": "66cadc39b2014bf8adb454f3e0276f13",
       "version_major": 2,
       "version_minor": 0
      },
      "text/plain": [
       "VBox(children=(Text(value='M101 0.6', continuous_update=False, description='Target Object/Target Coordinates',…"
      ]
     },
     "metadata": {},
     "output_type": "display_data"
    },
    {
     "data": {
      "application/vnd.jupyter.widget-view+json": {
       "model_id": "f959b2544df043dcbeecc4aac5092842",
       "version_major": 2,
       "version_minor": 0
      },
      "text/plain": [
       "HTML(value='\\n<head>\\n  <meta charset=\"utf-8\">\\n  <meta name=\"viewport\" content=\"width=device-width, initial-s…"
      ]
     },
     "metadata": {},
     "output_type": "display_data"
    },
    {
     "data": {
      "application/vnd.jupyter.widget-view+json": {
       "model_id": "8ab925a3afd44ced8de973562f195382",
       "version_major": 2,
       "version_minor": 0
      },
      "text/plain": [
       "Output()"
      ]
     },
     "metadata": {},
     "output_type": "display_data"
    }
   ],
   "source": [
    "import os\n",
    "import io\n",
    "from astropy import units as u \n",
    "from astropy.coordinates import SkyCoord\n",
    "from IPython.display import Image, display, clear_output\n",
    "from IPython.core.display import HTML\n",
    "from astroquery.cadc import Cadc\n",
    "from astropy.table import Table as ATable\n",
    "from astropy.io.votable.tree import VOTableFile, Resource, Table, Field\n",
    "from astropy.io.votable import from_table, writeto\n",
    "import pandas as pd\n",
    "import glue_jupyter as gj\n",
    "import ipywidgets as widgets\n",
    "from ipywidgets import interact\n",
    "from cadcutils import net\n",
    "from cadctap import CadcTapClient\n",
    "from six import BytesIO\n",
    "import base64\n",
    "import re\n",
    "\n",
    "hello = \"\"\n",
    "space_object = widgets.Text(value=\"M101 0.6\",\n",
    "                            description=\"Target Object/Target Coordinates\",\n",
    "                            continuous_update= False,\n",
    "                            style={'description_width': 'initial'})\n",
    "\n",
    "\n",
    "def retrieve_data(space_object):\n",
    "    print(space_object)\n",
    "\n",
    "def on_click():\n",
    "    print(\"hello world\")\n",
    "    return \n",
    "\n",
    "html = widgets.HTML(\"\"\"\n",
    "<head>\n",
    "  <meta charset=\"utf-8\">\n",
    "  <meta name=\"viewport\" content=\"width=device-width, initial-scale=1\">\n",
    "  <link rel=\"stylesheet\" href=\"https://maxcdn.bootstrapcdn.com/bootstrap/3.4.0/css/bootstrap.min.css\">\n",
    "  <script src=\"https://ajax.googleapis.com/ajax/libs/jquery/3.4.1/jquery.min.js\"></script>\n",
    "  <script src=\"https://maxcdn.bootstrapcdn.com/bootstrap/3.4.0/js/bootstrap.min.js\"></script>\n",
    "  <script src=\"https://kit.fontawesome.com/a076d05399.js\"></script>\n",
    "</head>\n",
    "<body>\n",
    "\n",
    "  <a href=\"#\" data-toggle=\"popover\" title=\"Target\" data-content=\"\n",
    "    <p>hello world</p>\n",
    "    <p>hello world</p>\n",
    "    <div class='link-clicked'>\n",
    "    <ul>\n",
    "    <li><a href='#' id= 'Aaaaaaa'>Upload</a></li>\n",
    "    <li><a href='#' id='Bbbbbbbbb'>Download</a></li>\n",
    "    </ul>\n",
    "    </div>\n",
    "    \n",
    "    \"><i class=\"fas fa-info-circle\"></i></a>\n",
    "\n",
    "\n",
    "\n",
    "</body>\n",
    "\"\"\")\n",
    "ui_object = widgets.VBox(children=[space_object], layout= widgets.Layout(width='100%'))\n",
    "\n",
    "database_output = widgets.interactive_output(retrieve_data, {\"space_object\": space_object})\n",
    "display(ui_object, html, database_output)\n",
    "\n"
   ]
  },
  {
   "cell_type": "code",
   "execution_count": null,
   "metadata": {},
   "outputs": [],
   "source": []
  }
 ],
 "metadata": {
  "kernelspec": {
   "display_name": "Python 3",
   "language": "python",
   "name": "python3"
  },
  "language_info": {
   "codemirror_mode": {
    "name": "ipython",
    "version": 3
   },
   "file_extension": ".py",
   "mimetype": "text/x-python",
   "name": "python",
   "nbconvert_exporter": "python",
   "pygments_lexer": "ipython3",
   "version": "3.7.4"
  }
 },
 "nbformat": 4,
 "nbformat_minor": 2
}
